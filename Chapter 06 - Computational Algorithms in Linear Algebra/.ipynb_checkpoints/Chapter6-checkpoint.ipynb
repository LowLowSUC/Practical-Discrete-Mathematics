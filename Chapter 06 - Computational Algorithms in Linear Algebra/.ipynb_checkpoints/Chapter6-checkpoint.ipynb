{
  "cells": [
    {
      "cell_type": "markdown",
      "metadata": {
        "id": "l1aR1vTeLRCp"
      },
      "source": [
        "# Chapter 6 - Computational Algorithms in Linear Algebra\n",
        "\n",
        "This notebook contains code accompanying Chapter 6 Computational Algorithms in Linear Algebra in *Practical Discrete Mathematics* by Ryan T. White and Archana Tikayat Ray.\n",
        "\n",
        "## Matrices and Matrix Representations of Linear Systems\n",
        "\n",
        "The code below stores matrices as `NumPy` arrays and prints specified entries of the matrices."
      ]
    },
    {
      "cell_type": "code",
      "execution_count": null,
      "metadata": {
        "id": "UrAd6L66LRCs",
        "outputId": "5acf338b-be1b-4817-8698-ba398beb111f"
      },
      "outputs": [
        {
          "name": "stdout",
          "output_type": "stream",
          "text": [
            "3\n",
            "1\n"
          ]
        }
      ],
      "source": [
        "import numpy\n",
        "\n",
        "# initialize matrices\n",
        "A = numpy.array([[3, 2, 1], [9, 0, 1], [3, 4, 1]])\n",
        "B = numpy.array([[1, 1, 2], [8, 4, 1], [0, 0, 3]])\n",
        "\n",
        "# print the entry in the first row and first column of A\n",
        "print(A[0,0])\n",
        "\n",
        "# print the entry in the second row and third column of B\n",
        "print(B[1,2])"
      ]
    },
    {
      "cell_type": "markdown",
      "metadata": {
        "id": "qAemz6IyLRCu"
      },
      "source": [
        "### Example: Matrix Addition and Subtraction"
      ]
    },
    {
      "cell_type": "code",
      "execution_count": null,
      "metadata": {
        "id": "yX7_rKlpLRCu",
        "outputId": "b7b3f7d5-ef39-49c8-b96e-772259b91fc7"
      },
      "outputs": [
        {
          "name": "stdout",
          "output_type": "stream",
          "text": [
            "[[ 4  3  3]\n",
            " [17  4  2]\n",
            " [ 3  4  4]]\n",
            "[[ 2  1 -1]\n",
            " [ 1 -4  0]\n",
            " [ 3  4 -2]]\n"
          ]
        }
      ],
      "source": [
        "# Add A and B\n",
        "print(numpy.add(A,B))\n",
        "\n",
        "# Subtract A and B\n",
        "print(numpy.subtract(A,B))"
      ]
    },
    {
      "cell_type": "markdown",
      "metadata": {
        "id": "kvZDJoROLRCw"
      },
      "source": [
        "### Example: Scalar Multiplication and Transpose"
      ]
    },
    {
      "cell_type": "code",
      "execution_count": null,
      "metadata": {
        "id": "E-E1QqCYLRCx",
        "outputId": "39bed0ff-99b9-49fe-f56d-66482af61c00"
      },
      "outputs": [
        {
          "name": "stdout",
          "output_type": "stream",
          "text": [
            "[[15 10  5]\n",
            " [45  0  5]\n",
            " [15 20  5]]\n",
            "[[3 9 3]\n",
            " [2 0 4]\n",
            " [1 1 1]]\n"
          ]
        }
      ],
      "source": [
        "# Multiply A by a scalar 5\n",
        "print(numpy.multiply(5,A))\n",
        "\n",
        "# Find the transpose of A\n",
        "print(numpy.transpose(A))"
      ]
    },
    {
      "cell_type": "markdown",
      "metadata": {
        "id": "R3hVlgq9LRCz"
      },
      "source": [
        "### Example: Matrix Multiplication and Transpose"
      ]
    },
    {
      "cell_type": "code",
      "execution_count": null,
      "metadata": {
        "id": "ne7H1NutLRCz",
        "outputId": "943b90c2-08b9-4f6f-98db-5e8337edf89e"
      },
      "outputs": [
        {
          "name": "stdout",
          "output_type": "stream",
          "text": [
            "[[19 11 11]\n",
            " [ 9  9 21]\n",
            " [35 19 13]]\n"
          ]
        }
      ],
      "source": [
        "# Multiply A and B\n",
        "print(numpy.dot(A,B))"
      ]
    },
    {
      "cell_type": "markdown",
      "metadata": {
        "id": "M2_GiyUvLRC0"
      },
      "source": [
        "## Solving Large Linear Systems with `NumPy`\n",
        "\n",
        "### Example: Solving $\\mathbf{Ax}=\\mathbf{b}$ for $\\mathbf{x}$"
      ]
    },
    {
      "cell_type": "code",
      "execution_count": null,
      "metadata": {
        "id": "saH5BSpDLRC0",
        "outputId": "b8dfe6ae-f6ea-417c-a570-f38ecd60b7b1"
      },
      "outputs": [
        {
          "data": {
            "text/plain": [
              "array([ 5.,  1., -2.])"
            ]
          },
          "execution_count": 10,
          "metadata": {},
          "output_type": "execute_result"
        }
      ],
      "source": [
        "import numpy\n",
        "\n",
        "# Create A and b matrices\n",
        "A = numpy.array([[2, -6, 6], [2, 3, -1], [4, -3, -1]])\n",
        "b = numpy.array([-8, 15, 19])\n",
        "\n",
        "# Solve Ax = b\n",
        "numpy.linalg.solve(A,b)\n"
      ]
    },
    {
      "cell_type": "markdown",
      "metadata": {
        "id": "DR9Dvqp_LRC1"
      },
      "source": [
        "### Example: Inconsistent and Dependent Systems with `NumPy`"
      ]
    },
    {
      "cell_type": "code",
      "execution_count": null,
      "metadata": {
        "id": "hHjhA17dLRC1",
        "outputId": "2a0f29fc-1e7a-4370-ed30-adba18e89e5a"
      },
      "outputs": [
        {
          "ename": "LinAlgError",
          "evalue": "Singular matrix",
          "output_type": "error",
          "traceback": [
            "\u001b[1;31m---------------------------------------------------------------------------\u001b[0m",
            "\u001b[1;31mLinAlgError\u001b[0m                               Traceback (most recent call last)",
            "\u001b[1;32m<ipython-input-14-88a6688b74fc>\u001b[0m in \u001b[0;36m<module>\u001b[1;34m\u001b[0m\n\u001b[0;32m      5\u001b[0m \u001b[0mb\u001b[0m \u001b[1;33m=\u001b[0m \u001b[0mnumpy\u001b[0m\u001b[1;33m.\u001b[0m\u001b[0marray\u001b[0m\u001b[1;33m(\u001b[0m\u001b[1;33m[\u001b[0m\u001b[1;36m3\u001b[0m\u001b[1;33m,\u001b[0m \u001b[1;36m3\u001b[0m\u001b[1;33m]\u001b[0m\u001b[1;33m)\u001b[0m\u001b[1;33m\u001b[0m\u001b[1;33m\u001b[0m\u001b[0m\n\u001b[0;32m      6\u001b[0m \u001b[1;33m\u001b[0m\u001b[0m\n\u001b[1;32m----> 7\u001b[1;33m \u001b[0mprint\u001b[0m\u001b[1;33m(\u001b[0m\u001b[0mnumpy\u001b[0m\u001b[1;33m.\u001b[0m\u001b[0mlinalg\u001b[0m\u001b[1;33m.\u001b[0m\u001b[0msolve\u001b[0m\u001b[1;33m(\u001b[0m\u001b[0mA\u001b[0m\u001b[1;33m,\u001b[0m\u001b[0mb\u001b[0m\u001b[1;33m)\u001b[0m\u001b[1;33m)\u001b[0m\u001b[1;33m\u001b[0m\u001b[1;33m\u001b[0m\u001b[0m\n\u001b[0m",
            "\u001b[1;32m<__array_function__ internals>\u001b[0m in \u001b[0;36msolve\u001b[1;34m(*args, **kwargs)\u001b[0m\n",
            "\u001b[1;32m~\\anaconda3\\envs\\DL\\lib\\site-packages\\numpy\\linalg\\linalg.py\u001b[0m in \u001b[0;36msolve\u001b[1;34m(a, b)\u001b[0m\n\u001b[0;32m    392\u001b[0m     \u001b[0msignature\u001b[0m \u001b[1;33m=\u001b[0m \u001b[1;34m'DD->D'\u001b[0m \u001b[1;32mif\u001b[0m \u001b[0misComplexType\u001b[0m\u001b[1;33m(\u001b[0m\u001b[0mt\u001b[0m\u001b[1;33m)\u001b[0m \u001b[1;32melse\u001b[0m \u001b[1;34m'dd->d'\u001b[0m\u001b[1;33m\u001b[0m\u001b[1;33m\u001b[0m\u001b[0m\n\u001b[0;32m    393\u001b[0m     \u001b[0mextobj\u001b[0m \u001b[1;33m=\u001b[0m \u001b[0mget_linalg_error_extobj\u001b[0m\u001b[1;33m(\u001b[0m\u001b[0m_raise_linalgerror_singular\u001b[0m\u001b[1;33m)\u001b[0m\u001b[1;33m\u001b[0m\u001b[1;33m\u001b[0m\u001b[0m\n\u001b[1;32m--> 394\u001b[1;33m     \u001b[0mr\u001b[0m \u001b[1;33m=\u001b[0m \u001b[0mgufunc\u001b[0m\u001b[1;33m(\u001b[0m\u001b[0ma\u001b[0m\u001b[1;33m,\u001b[0m \u001b[0mb\u001b[0m\u001b[1;33m,\u001b[0m \u001b[0msignature\u001b[0m\u001b[1;33m=\u001b[0m\u001b[0msignature\u001b[0m\u001b[1;33m,\u001b[0m \u001b[0mextobj\u001b[0m\u001b[1;33m=\u001b[0m\u001b[0mextobj\u001b[0m\u001b[1;33m)\u001b[0m\u001b[1;33m\u001b[0m\u001b[1;33m\u001b[0m\u001b[0m\n\u001b[0m\u001b[0;32m    395\u001b[0m \u001b[1;33m\u001b[0m\u001b[0m\n\u001b[0;32m    396\u001b[0m     \u001b[1;32mreturn\u001b[0m \u001b[0mwrap\u001b[0m\u001b[1;33m(\u001b[0m\u001b[0mr\u001b[0m\u001b[1;33m.\u001b[0m\u001b[0mastype\u001b[0m\u001b[1;33m(\u001b[0m\u001b[0mresult_t\u001b[0m\u001b[1;33m,\u001b[0m \u001b[0mcopy\u001b[0m\u001b[1;33m=\u001b[0m\u001b[1;32mFalse\u001b[0m\u001b[1;33m)\u001b[0m\u001b[1;33m)\u001b[0m\u001b[1;33m\u001b[0m\u001b[1;33m\u001b[0m\u001b[0m\n",
            "\u001b[1;32m~\\anaconda3\\envs\\DL\\lib\\site-packages\\numpy\\linalg\\linalg.py\u001b[0m in \u001b[0;36m_raise_linalgerror_singular\u001b[1;34m(err, flag)\u001b[0m\n\u001b[0;32m     86\u001b[0m \u001b[1;33m\u001b[0m\u001b[0m\n\u001b[0;32m     87\u001b[0m \u001b[1;32mdef\u001b[0m \u001b[0m_raise_linalgerror_singular\u001b[0m\u001b[1;33m(\u001b[0m\u001b[0merr\u001b[0m\u001b[1;33m,\u001b[0m \u001b[0mflag\u001b[0m\u001b[1;33m)\u001b[0m\u001b[1;33m:\u001b[0m\u001b[1;33m\u001b[0m\u001b[1;33m\u001b[0m\u001b[0m\n\u001b[1;32m---> 88\u001b[1;33m     \u001b[1;32mraise\u001b[0m \u001b[0mLinAlgError\u001b[0m\u001b[1;33m(\u001b[0m\u001b[1;34m\"Singular matrix\"\u001b[0m\u001b[1;33m)\u001b[0m\u001b[1;33m\u001b[0m\u001b[1;33m\u001b[0m\u001b[0m\n\u001b[0m\u001b[0;32m     89\u001b[0m \u001b[1;33m\u001b[0m\u001b[0m\n\u001b[0;32m     90\u001b[0m \u001b[1;32mdef\u001b[0m \u001b[0m_raise_linalgerror_nonposdef\u001b[0m\u001b[1;33m(\u001b[0m\u001b[0merr\u001b[0m\u001b[1;33m,\u001b[0m \u001b[0mflag\u001b[0m\u001b[1;33m)\u001b[0m\u001b[1;33m:\u001b[0m\u001b[1;33m\u001b[0m\u001b[1;33m\u001b[0m\u001b[0m\n",
            "\u001b[1;31mLinAlgError\u001b[0m: Singular matrix"
          ]
        }
      ],
      "source": [
        "import numpy\n",
        "\n",
        "# inconsistent system\n",
        "A = numpy.array([[2, 1], [6, 3]])\n",
        "b = numpy.array([3, 3])\n",
        "\n",
        "print(numpy.linalg.solve(A,b))"
      ]
    },
    {
      "cell_type": "markdown",
      "metadata": {
        "id": "7zEx83ipLRC2"
      },
      "source": [
        "Note that the code throws an error because the matrix $\\mathbf{A}$ is singular since the system is inconsistent--i.e. there are no solutions."
      ]
    },
    {
      "cell_type": "code",
      "execution_count": null,
      "metadata": {
        "id": "mTNMzfB_LRC2",
        "outputId": "2f003e9e-37a1-48a0-fda1-72dd942e3d89"
      },
      "outputs": [
        {
          "ename": "LinAlgError",
          "evalue": "Singular matrix",
          "output_type": "error",
          "traceback": [
            "\u001b[1;31m---------------------------------------------------------------------------\u001b[0m",
            "\u001b[1;31mLinAlgError\u001b[0m                               Traceback (most recent call last)",
            "\u001b[1;32m<ipython-input-19-a7825dde56f3>\u001b[0m in \u001b[0;36m<module>\u001b[1;34m\u001b[0m\n\u001b[0;32m      3\u001b[0m \u001b[0mb\u001b[0m \u001b[1;33m=\u001b[0m \u001b[0mnumpy\u001b[0m\u001b[1;33m.\u001b[0m\u001b[0marray\u001b[0m\u001b[1;33m(\u001b[0m\u001b[1;33m[\u001b[0m\u001b[1;36m1\u001b[0m\u001b[1;33m,\u001b[0m \u001b[1;36m3\u001b[0m\u001b[1;33m]\u001b[0m\u001b[1;33m)\u001b[0m\u001b[1;33m\u001b[0m\u001b[1;33m\u001b[0m\u001b[0m\n\u001b[0;32m      4\u001b[0m \u001b[1;33m\u001b[0m\u001b[0m\n\u001b[1;32m----> 5\u001b[1;33m \u001b[0mprint\u001b[0m\u001b[1;33m(\u001b[0m\u001b[0mnumpy\u001b[0m\u001b[1;33m.\u001b[0m\u001b[0mlinalg\u001b[0m\u001b[1;33m.\u001b[0m\u001b[0msolve\u001b[0m\u001b[1;33m(\u001b[0m\u001b[0mA\u001b[0m\u001b[1;33m,\u001b[0m\u001b[0mb\u001b[0m\u001b[1;33m)\u001b[0m\u001b[1;33m)\u001b[0m\u001b[1;33m\u001b[0m\u001b[1;33m\u001b[0m\u001b[0m\n\u001b[0m",
            "\u001b[1;32m<__array_function__ internals>\u001b[0m in \u001b[0;36msolve\u001b[1;34m(*args, **kwargs)\u001b[0m\n",
            "\u001b[1;32m~\\anaconda3\\envs\\DL\\lib\\site-packages\\numpy\\linalg\\linalg.py\u001b[0m in \u001b[0;36msolve\u001b[1;34m(a, b)\u001b[0m\n\u001b[0;32m    392\u001b[0m     \u001b[0msignature\u001b[0m \u001b[1;33m=\u001b[0m \u001b[1;34m'DD->D'\u001b[0m \u001b[1;32mif\u001b[0m \u001b[0misComplexType\u001b[0m\u001b[1;33m(\u001b[0m\u001b[0mt\u001b[0m\u001b[1;33m)\u001b[0m \u001b[1;32melse\u001b[0m \u001b[1;34m'dd->d'\u001b[0m\u001b[1;33m\u001b[0m\u001b[1;33m\u001b[0m\u001b[0m\n\u001b[0;32m    393\u001b[0m     \u001b[0mextobj\u001b[0m \u001b[1;33m=\u001b[0m \u001b[0mget_linalg_error_extobj\u001b[0m\u001b[1;33m(\u001b[0m\u001b[0m_raise_linalgerror_singular\u001b[0m\u001b[1;33m)\u001b[0m\u001b[1;33m\u001b[0m\u001b[1;33m\u001b[0m\u001b[0m\n\u001b[1;32m--> 394\u001b[1;33m     \u001b[0mr\u001b[0m \u001b[1;33m=\u001b[0m \u001b[0mgufunc\u001b[0m\u001b[1;33m(\u001b[0m\u001b[0ma\u001b[0m\u001b[1;33m,\u001b[0m \u001b[0mb\u001b[0m\u001b[1;33m,\u001b[0m \u001b[0msignature\u001b[0m\u001b[1;33m=\u001b[0m\u001b[0msignature\u001b[0m\u001b[1;33m,\u001b[0m \u001b[0mextobj\u001b[0m\u001b[1;33m=\u001b[0m\u001b[0mextobj\u001b[0m\u001b[1;33m)\u001b[0m\u001b[1;33m\u001b[0m\u001b[1;33m\u001b[0m\u001b[0m\n\u001b[0m\u001b[0;32m    395\u001b[0m \u001b[1;33m\u001b[0m\u001b[0m\n\u001b[0;32m    396\u001b[0m     \u001b[1;32mreturn\u001b[0m \u001b[0mwrap\u001b[0m\u001b[1;33m(\u001b[0m\u001b[0mr\u001b[0m\u001b[1;33m.\u001b[0m\u001b[0mastype\u001b[0m\u001b[1;33m(\u001b[0m\u001b[0mresult_t\u001b[0m\u001b[1;33m,\u001b[0m \u001b[0mcopy\u001b[0m\u001b[1;33m=\u001b[0m\u001b[1;32mFalse\u001b[0m\u001b[1;33m)\u001b[0m\u001b[1;33m)\u001b[0m\u001b[1;33m\u001b[0m\u001b[1;33m\u001b[0m\u001b[0m\n",
            "\u001b[1;32m~\\anaconda3\\envs\\DL\\lib\\site-packages\\numpy\\linalg\\linalg.py\u001b[0m in \u001b[0;36m_raise_linalgerror_singular\u001b[1;34m(err, flag)\u001b[0m\n\u001b[0;32m     86\u001b[0m \u001b[1;33m\u001b[0m\u001b[0m\n\u001b[0;32m     87\u001b[0m \u001b[1;32mdef\u001b[0m \u001b[0m_raise_linalgerror_singular\u001b[0m\u001b[1;33m(\u001b[0m\u001b[0merr\u001b[0m\u001b[1;33m,\u001b[0m \u001b[0mflag\u001b[0m\u001b[1;33m)\u001b[0m\u001b[1;33m:\u001b[0m\u001b[1;33m\u001b[0m\u001b[1;33m\u001b[0m\u001b[0m\n\u001b[1;32m---> 88\u001b[1;33m     \u001b[1;32mraise\u001b[0m \u001b[0mLinAlgError\u001b[0m\u001b[1;33m(\u001b[0m\u001b[1;34m\"Singular matrix\"\u001b[0m\u001b[1;33m)\u001b[0m\u001b[1;33m\u001b[0m\u001b[1;33m\u001b[0m\u001b[0m\n\u001b[0m\u001b[0;32m     89\u001b[0m \u001b[1;33m\u001b[0m\u001b[0m\n\u001b[0;32m     90\u001b[0m \u001b[1;32mdef\u001b[0m \u001b[0m_raise_linalgerror_nonposdef\u001b[0m\u001b[1;33m(\u001b[0m\u001b[0merr\u001b[0m\u001b[1;33m,\u001b[0m \u001b[0mflag\u001b[0m\u001b[1;33m)\u001b[0m\u001b[1;33m:\u001b[0m\u001b[1;33m\u001b[0m\u001b[1;33m\u001b[0m\u001b[0m\n",
            "\u001b[1;31mLinAlgError\u001b[0m: Singular matrix"
          ]
        }
      ],
      "source": [
        "# dependent system\n",
        "A = numpy.array([[2, 1], [6, 3]])\n",
        "b = numpy.array([1, 3])\n",
        "\n",
        "print(numpy.linalg.solve(A,b))"
      ]
    },
    {
      "cell_type": "markdown",
      "metadata": {
        "id": "XmLGvjCtLRC2"
      },
      "source": [
        "Note that the code throws an error because the matrix $\\mathbf{A}$ is singular since the system is dependent--i.e. there are infinitely many solutions, as we can confirm below."
      ]
    },
    {
      "cell_type": "code",
      "execution_count": null,
      "metadata": {
        "id": "gIZyf_8WLRC2",
        "outputId": "7c87534b-8090-4619-eadc-19b40e36014f"
      },
      "outputs": [
        {
          "name": "stdout",
          "output_type": "stream",
          "text": [
            "0.0\n"
          ]
        }
      ],
      "source": [
        "A = numpy.array([[2, 1], [6, 3]])\n",
        "print(numpy.linalg.det(A))"
      ]
    },
    {
      "cell_type": "markdown",
      "metadata": {
        "id": "6tK6d8UnLRC3"
      },
      "source": [
        "### Example: 10-by-10 Linear System (with `NumPy`)"
      ]
    },
    {
      "cell_type": "code",
      "execution_count": null,
      "metadata": {
        "id": "HdU98EIELRC3",
        "outputId": "914548c5-9bf2-41d8-e869-73a9d881233c"
      },
      "outputs": [
        {
          "name": "stdout",
          "output_type": "stream",
          "text": [
            "[ 0.09118027 -1.51451319 -2.48186344 -2.94076307  0.07912968  2.76425416\n",
            "  2.48851394 -0.30974375 -1.97943716  0.75619575]\n"
          ]
        },
        {
          "data": {
            "text/plain": [
              "2.1538326677728037e-14"
            ]
          },
          "execution_count": 21,
          "metadata": {},
          "output_type": "execute_result"
        }
      ],
      "source": [
        "import numpy\n",
        "\n",
        "numpy.random.seed(1)\n",
        "\n",
        "# Create A and b matrices with random\n",
        "A = 10*numpy.random.rand(10,10)-5\n",
        "b = 10*numpy.random.rand(10)-5\n",
        "\n",
        "# Solve Ax = b\n",
        "solution = numpy.linalg.solve(A,b)\n",
        "print(solution)\n",
        "\n",
        "# To verify the solution works, show Ax - b is near 0\n",
        "sum(abs(numpy.dot(A,solution) - b))"
      ]
    },
    {
      "cell_type": "markdown",
      "source": [
        "***MATRIX CONCEPR WITH IMAGE***"
      ],
      "metadata": {
        "id": "HL9A6udjLXrM"
      }
    },
    {
      "cell_type": "code",
      "source": [
        "# 安装必要的库\n",
        "!pip install rembg opencv-python-headless pillow\n",
        "\n",
        "from google.colab import files\n",
        "import cv2\n",
        "import numpy as np\n",
        "from rembg import remove\n",
        "from PIL import Image\n",
        "from google.colab.patches import cv2_imshow\n",
        "\n",
        "# 上传文件\n",
        "uploaded = files.upload()\n",
        "\n",
        "# 读取上传的文件路径\n",
        "input_path = list(uploaded.keys())[0]\n",
        "\n",
        "# 去除背景\n",
        "with open(input_path, \"rb\") as f:\n",
        "    img_data = f.read()\n",
        "removed_bg = remove(img_data)\n",
        "\n",
        "# 保存去背景后的图像\n",
        "with open(\"no_bg.png\", \"wb\") as out_file:\n",
        "    out_file.write(removed_bg)\n",
        "\n",
        "# 加载去背景后的图像\n",
        "img = cv2.imread(\"no_bg.png\", cv2.IMREAD_UNCHANGED)\n",
        "\n",
        "# 检查图像是否成功加载\n",
        "if img is None:\n",
        "    print(\"图像加载失败，请检查文件路径或格式。\")\n",
        "else:\n",
        "    # 获取图像尺寸\n",
        "    height, width = img.shape[:2]\n",
        "\n",
        "    # 调整放大比例为 0.75（使人物比原来更小）\n",
        "    scale_factor = 0.75  # 缩小比例\n",
        "    new_width = int(width * scale_factor)\n",
        "    new_height = int(height * scale_factor)\n",
        "\n",
        "    resized_img = cv2.resize(img, (new_width, new_height), interpolation=cv2.INTER_LINEAR)\n",
        "\n",
        "    # 中心裁剪以保持原始比例\n",
        "    crop_x = (width - new_width) // 2\n",
        "    crop_y = (height - new_height) // 2\n",
        "    padded_img = cv2.copyMakeBorder(\n",
        "        resized_img,\n",
        "        crop_y,\n",
        "        height - new_height - crop_y,\n",
        "        crop_x,\n",
        "        width - new_width - crop_x,\n",
        "        cv2.BORDER_CONSTANT,\n",
        "        value=[0, 0, 0, 0],  # 背景透明\n",
        "    )\n",
        "\n",
        "    # 在 Colab 中显示放大和调整后的人物\n",
        "    print(\"放大并调整后的人物图像：\")\n",
        "    cv2_imshow(padded_img)\n",
        "\n",
        "    # 旋转 90 度\n",
        "    rotated_img = cv2.rotate(padded_img, cv2.ROTATE_90_CLOCKWISE)\n",
        "\n",
        "    # 在 Colab 中显示旋转前和旋转后的图像\n",
        "    print(\"旋转前的图像：\")\n",
        "    cv2_imshow(padded_img)\n",
        "    print(\"旋转后的图像：\")\n",
        "    cv2_imshow(rotated_img)\n",
        "\n",
        "    # 将旋转后的图像转换为黑白\n",
        "    gray_img = cv2.cvtColor(rotated_img, cv2.COLOR_BGRA2GRAY)\n",
        "\n",
        "    # 在 Colab 中显示黑白图像\n",
        "    print(\"黑白图像：\")\n",
        "    cv2_imshow(gray_img)\n",
        "\n",
        "    # 保存最终结果\n",
        "    cv2.imwrite(\"processed_image_rotated.jpg\", rotated_img)\n",
        "    cv2.imwrite(\"processed_image_gray.jpg\", gray_img)\n",
        "\n",
        "    # 提示处理完成\n",
        "    print(\"处理完成，结果已保存为：\")\n",
        "    print(\"1. 旋转后的图像 -> processed_image_rotated.jpg\")\n",
        "    print(\"2. 黑白图像 -> processed_image_gray.jpg\")\n"
      ],
      "metadata": {
        "id": "cWGBnU8kLV2w"
      },
      "execution_count": null,
      "outputs": []
    }
  ],
  "metadata": {
    "kernelspec": {
      "display_name": "Python 3.7 (DL)",
      "language": "python",
      "name": "dl"
    },
    "language_info": {
      "codemirror_mode": {
        "name": "ipython",
        "version": 3
      },
      "file_extension": ".py",
      "mimetype": "text/x-python",
      "name": "python",
      "nbconvert_exporter": "python",
      "pygments_lexer": "ipython3",
      "version": "3.7.7"
    },
    "colab": {
      "provenance": []
    }
  },
  "nbformat": 4,
  "nbformat_minor": 0
}